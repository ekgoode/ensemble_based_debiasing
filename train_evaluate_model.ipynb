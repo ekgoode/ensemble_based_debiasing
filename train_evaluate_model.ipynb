{
 "cells": [
  {
   "cell_type": "code",
   "execution_count": 2,
   "metadata": {},
   "outputs": [
    {
     "name": "stderr",
     "output_type": "stream",
     "text": [
      "c:\\Users\\ethan\\AppData\\Local\\Programs\\Python\\Python312\\Lib\\site-packages\\tqdm\\auto.py:21: TqdmWarning: IProgress not found. Please update jupyter and ipywidgets. See https://ipywidgets.readthedocs.io/en/stable/user_install.html\n",
      "  from .autonotebook import tqdm as notebook_tqdm\n"
     ]
    }
   ],
   "source": [
    "from datasets import load_dataset\n",
    "from transformers import AutoTokenizer, AutoModelForSequenceClassification, Trainer, TrainingArguments\n",
    "from collections import Counter, defaultdict\n",
    "import string\n",
    "import pandas as pd\n",
    "import numpy as np\n",
    "import torch\n",
    "import matplotlib.pyplot as plt\n",
    "from scipy.stats import norm\n",
    "from sklearn.metrics import accuracy_score\n",
    "import lime\n",
    "from lime.lime_text import LimeTextExplainer"
   ]
  },
  {
   "cell_type": "code",
   "execution_count": 5,
   "metadata": {},
   "outputs": [
    {
     "name": "stderr",
     "output_type": "stream",
     "text": [
      "Some weights of ElectraForSequenceClassification were not initialized from the model checkpoint at google/electra-small-discriminator and are newly initialized: ['classifier.dense.bias', 'classifier.dense.weight', 'classifier.out_proj.bias', 'classifier.out_proj.weight']\n",
      "You should probably TRAIN this model on a down-stream task to be able to use it for predictions and inference.\n"
     ]
    }
   ],
   "source": [
    "dataset = load_dataset(\"snli\")\n",
    "\n",
    "# Initialize model + tokenizer\n",
    "model_name = \"google/electra-small-discriminator\"\n",
    "model = AutoModelForSequenceClassification.from_pretrained(model_name, num_labels=3)\n",
    "if hasattr(model, 'electra'):\n",
    "        for param in model.electra.parameters():\n",
    "            if not param.is_contiguous():\n",
    "                param.data = param.data.contiguous()\n",
    "tokenizer = AutoTokenizer.from_pretrained(model_name, use_fast=True)\n",
    "\n",
    "def preprocess(example):\n",
    "    return tokenizer(example['premise'], example['hypothesis'], truncation=True, padding='max_length', max_length=tokenizer.model_max_length)\n",
    "\n",
    "dataset = dataset.filter(lambda ex: ex['label'] != -1)\n",
    "encoded_dataset = dataset.map(preprocess, batched=True)\n",
    "encoded_dataset = encoded_dataset.rename_column(\"label\", \"labels\")  # Ensure labels are named correctly\n",
    "encoded_dataset.set_format(type=\"torch\", columns=[\"input_ids\", \"attention_mask\", \"labels\"])"
   ]
  },
  {
   "cell_type": "code",
   "execution_count": null,
   "metadata": {},
   "outputs": [],
   "source": [
    "training_args = TrainingArguments(\n",
    "    output_dir=\"./results\",\n",
    "    evaluation_strategy=\"epoch\",\n",
    "    learning_rate=5e-5,\n",
    "    per_device_train_batch_size=16,\n",
    "    per_device_eval_batch_size=16,\n",
    "    num_train_epochs=3,\n",
    "    weight_decay=0.01,\n",
    "    save_total_limit=2,\n",
    "    logging_dir=\"./logs\",\n",
    "    logging_steps=500,\n",
    ")\n",
    "\n",
    "\n",
    "trainer = Trainer(\n",
    "    model=model,\n",
    "    args=training_args,\n",
    "    train_dataset=encoded_dataset['train'],\n",
    "    eval_dataset=encoded_dataset['validation'],\n",
    ")\n",
    "trainer.train()\n",
    "\n",
    "# Save the trained model and tokenizer\n",
    "output_dir = \"./electra-snli-model\"\n",
    "trainer.save_model(output_dir)\n",
    "tokenizer.save_pretrained(output_dir)"
   ]
  },
  {
   "cell_type": "code",
   "execution_count": 6,
   "metadata": {},
   "outputs": [],
   "source": [
    "output_dir = \"./model\"\n",
    "\n",
    "model = AutoModelForSequenceClassification.from_pretrained(output_dir)\n",
    "tokenizer = AutoTokenizer.from_pretrained(output_dir)"
   ]
  },
  {
   "cell_type": "code",
   "execution_count": 7,
   "metadata": {},
   "outputs": [
    {
     "name": "stderr",
     "output_type": "stream",
     "text": [
      "100%|██████████| 616/616 [13:47<00:00,  1.34s/it]"
     ]
    },
    {
     "name": "stdout",
     "output_type": "stream",
     "text": [
      "Validation accuracy: 0.8953\n"
     ]
    },
    {
     "name": "stderr",
     "output_type": "stream",
     "text": [
      "\n"
     ]
    }
   ],
   "source": [
    "#Evaluate model accuracy on SNLI validation\n",
    "\n",
    "# Define the compute_metrics function\n",
    "def compute_metrics(pred):\n",
    "    predictions = pred.predictions.argmax(axis=-1)\n",
    "    labels = pred.label_ids\n",
    "    acc = accuracy_score(labels, predictions)\n",
    "    return {\"accuracy\": acc}\n",
    "\n",
    "training_args = TrainingArguments(\n",
    "    output_dir=\"./results\",\n",
    "    evaluation_strategy=\"epoch\",\n",
    "    learning_rate=5e-5,\n",
    "    per_device_train_batch_size=16,\n",
    "    per_device_eval_batch_size=16,\n",
    "    num_train_epochs=3,\n",
    "    weight_decay=0.01,\n",
    "    save_total_limit=2,\n",
    "    logging_dir=\"./logs\",\n",
    "    logging_steps=500,\n",
    ")\n",
    "\n",
    "# Reinitialize the Trainer with compute_metrics\n",
    "trainer = Trainer(\n",
    "    model=model,\n",
    "    args=training_args,\n",
    "    eval_dataset=encoded_dataset['validation'],\n",
    "    compute_metrics=compute_metrics,\n",
    ")\n",
    "\n",
    "# Evaluate the model\n",
    "validation_results = trainer.evaluate()\n",
    "print(f\"Validation accuracy: {validation_results['eval_accuracy']:.4f}\")\n"
   ]
  },
  {
   "cell_type": "code",
   "execution_count": 8,
   "metadata": {},
   "outputs": [],
   "source": [
    "# Evaluate model accuracy on MNLI validation\n",
    "mnli = load_dataset(\"multi_nli\")"
   ]
  },
  {
   "cell_type": "code",
   "execution_count": 9,
   "metadata": {},
   "outputs": [
    {
     "name": "stderr",
     "output_type": "stream",
     "text": [
      "Map: 100%|██████████| 392702/392702 [01:04<00:00, 6120.04 examples/s]\n",
      "Map: 100%|██████████| 9815/9815 [00:01<00:00, 6294.71 examples/s]\n",
      "Map: 100%|██████████| 9832/9832 [00:01<00:00, 5158.84 examples/s]\n"
     ]
    }
   ],
   "source": [
    "mnli = mnli.filter(lambda ex: ex['label'] != -1)\n",
    "def preprocess_mnli(examples):\n",
    "    return tokenizer(\n",
    "        examples[\"premise\"],  # MNLI uses \"premise\" and \"hypothesis\"\n",
    "        examples[\"hypothesis\"],\n",
    "        truncation=True,\n",
    "        padding=\"max_length\",\n",
    "        max_length=128,\n",
    "    )\n",
    "\n",
    "# Apply preprocessing\n",
    "tokenized_mnli = mnli.map(preprocess_mnli, batched=True)\n",
    "\n",
    "# Ensure column naming consistency\n",
    "tokenized_mnli = tokenized_mnli.rename_column(\"label\", \"labels\")  # Ensure the label column is named 'labels'\n",
    "tokenized_mnli.set_format(type=\"torch\", columns=[\"input_ids\", \"attention_mask\", \"labels\"])"
   ]
  },
  {
   "cell_type": "code",
   "execution_count": 10,
   "metadata": {},
   "outputs": [
    {
     "name": "stderr",
     "output_type": "stream",
     "text": [
      "100%|██████████| 614/614 [02:11<00:00,  4.67it/s]\n"
     ]
    },
    {
     "name": "stdout",
     "output_type": "stream",
     "text": [
      "MNLI Matched accuracy: 0.7018\n"
     ]
    },
    {
     "name": "stderr",
     "output_type": "stream",
     "text": [
      "100%|██████████| 615/615 [02:15<00:00,  4.55it/s]"
     ]
    },
    {
     "name": "stdout",
     "output_type": "stream",
     "text": [
      "MNLI Mismatched accuracy: 0.7122\n"
     ]
    },
    {
     "name": "stderr",
     "output_type": "stream",
     "text": [
      "\n"
     ]
    }
   ],
   "source": [
    "mnli_results = trainer.evaluate(eval_dataset=tokenized_mnli[\"validation_matched\"])\n",
    "print(f\"MNLI Matched accuracy: {mnli_results['eval_accuracy']:.4f}\")\n",
    "\n",
    "mnli_results_mismatched = trainer.evaluate(eval_dataset=tokenized_mnli[\"validation_mismatched\"])\n",
    "print(f\"MNLI Mismatched accuracy: {mnli_results_mismatched['eval_accuracy']:.4f}\")\n"
   ]
  },
  {
   "cell_type": "code",
   "execution_count": 19,
   "metadata": {},
   "outputs": [
    {
     "name": "stderr",
     "output_type": "stream",
     "text": [
      "Downloading data: 100%|██████████| 15.5M/15.5M [00:01<00:00, 11.4MB/s]\n",
      "Downloading data: 100%|██████████| 15.5M/15.5M [00:01<00:00, 12.3MB/s]\n",
      "Generating train split: 100%|██████████| 30000/30000 [00:01<00:00, 24605.39 examples/s]\n",
      "Generating validation split: 100%|██████████| 30000/30000 [00:01<00:00, 25399.38 examples/s]\n"
     ]
    }
   ],
   "source": [
    "hans = load_dataset(\"hans\", trust_remote_code=True)\n"
   ]
  },
  {
   "cell_type": "code",
   "execution_count": 21,
   "metadata": {},
   "outputs": [
    {
     "name": "stderr",
     "output_type": "stream",
     "text": [
      "Map:   0%|          | 0/30000 [00:00<?, ? examples/s]"
     ]
    },
    {
     "name": "stderr",
     "output_type": "stream",
     "text": [
      "Map: 100%|██████████| 30000/30000 [00:02<00:00, 12069.72 examples/s]\n",
      "Map: 100%|██████████| 30000/30000 [00:02<00:00, 12507.61 examples/s]\n"
     ]
    }
   ],
   "source": [
    "def preprocess_hans(examples):\n",
    "    return tokenizer(\n",
    "        examples[\"premise\"],  # HANS uses \"sentence1\" and \"sentence2\"\n",
    "        examples[\"hypothesis\"],\n",
    "        truncation=True,\n",
    "        padding=\"max_length\",\n",
    "        max_length=128,\n",
    "    )\n",
    "\n",
    "# Apply preprocessing\n",
    "tokenized_hans = hans.map(preprocess_hans, batched=True)\n",
    "\n",
    "# Ensure column naming consistency\n",
    "tokenized_hans = tokenized_hans.rename_column(\"label\", \"labels\")  # Ensure the label column is named 'labels'\n",
    "tokenized_hans.set_format(type=\"torch\", columns=[\"input_ids\", \"attention_mask\", \"labels\"])\n"
   ]
  },
  {
   "cell_type": "code",
   "execution_count": null,
   "metadata": {},
   "outputs": [
    {
     "name": "stderr",
     "output_type": "stream",
     "text": [
      "100%|██████████| 1875/1875 [06:56<00:00,  4.50it/s]\n",
      "100%|██████████| 1875/1875 [06:51<00:00,  4.55it/s]\n"
     ]
    },
    {
     "ename": "KeyError",
     "evalue": "'eval_accuracy'",
     "output_type": "error",
     "traceback": [
      "\u001b[1;31m---------------------------------------------------------------------------\u001b[0m",
      "\u001b[1;31mKeyError\u001b[0m                                  Traceback (most recent call last)",
      "Cell \u001b[1;32mIn[22], line 2\u001b[0m\n\u001b[0;32m      1\u001b[0m hans_results \u001b[38;5;241m=\u001b[39m trainer\u001b[38;5;241m.\u001b[39mevaluate(eval_dataset\u001b[38;5;241m=\u001b[39mtokenized_hans)\n\u001b[1;32m----> 2\u001b[0m \u001b[38;5;28mprint\u001b[39m(\u001b[38;5;124mf\u001b[39m\u001b[38;5;124m\"\u001b[39m\u001b[38;5;124mHANS accuracy: \u001b[39m\u001b[38;5;132;01m{\u001b[39;00m\u001b[43mhans_results\u001b[49m\u001b[43m[\u001b[49m\u001b[38;5;124;43m'\u001b[39;49m\u001b[38;5;124;43meval_accuracy\u001b[39;49m\u001b[38;5;124;43m'\u001b[39;49m\u001b[43m]\u001b[49m\u001b[38;5;132;01m:\u001b[39;00m\u001b[38;5;124m.4f\u001b[39m\u001b[38;5;132;01m}\u001b[39;00m\u001b[38;5;124m\"\u001b[39m)\n",
      "\u001b[1;31mKeyError\u001b[0m: 'eval_accuracy'"
     ]
    }
   ],
   "source": [
    "hans_results = trainer.evaluate(eval_dataset=tokenized_hans)\n"
   ]
  },
  {
   "cell_type": "code",
   "execution_count": 27,
   "metadata": {},
   "outputs": [
    {
     "name": "stdout",
     "output_type": "stream",
     "text": [
      "HANS accuracy: 0.4933\n",
      "HANS accuracy: 0.4935\n"
     ]
    }
   ],
   "source": [
    "print(f\"HANS accuracy: {hans_results['eval_validation_accuracy']:.4f}\")\n",
    "print(f\"HANS accuracy: {hans_results['eval_train_accuracy']:.4f}\")\n"
   ]
  },
  {
   "cell_type": "code",
   "execution_count": 13,
   "metadata": {},
   "outputs": [
    {
     "name": "stderr",
     "output_type": "stream",
     "text": [
      "c:\\Users\\ethan\\AppData\\Local\\Programs\\Python\\Python312\\Lib\\site-packages\\huggingface_hub\\file_download.py:139: UserWarning: `huggingface_hub` cache-system uses symlinks by default to efficiently store duplicated files but your machine does not support them in C:\\Users\\ethan\\.cache\\huggingface\\hub\\datasets--anli. Caching files will still work but in a degraded version that might require more space on your disk. This warning can be disabled by setting the `HF_HUB_DISABLE_SYMLINKS_WARNING` environment variable. For more details, see https://huggingface.co/docs/huggingface_hub/how-to-cache#limitations.\n",
      "To support symlinks on Windows, you either need to activate Developer Mode or to run Python as an administrator. In order to activate developer mode, see this article: https://docs.microsoft.com/en-us/windows/apps/get-started/enable-your-device-for-development\n",
      "  warnings.warn(message)\n",
      "Generating train_r1 split: 100%|██████████| 16946/16946 [00:00<00:00, 323808.78 examples/s]\n",
      "Generating dev_r1 split: 100%|██████████| 1000/1000 [00:00<00:00, 249943.63 examples/s]\n",
      "Generating test_r1 split: 100%|██████████| 1000/1000 [00:00<00:00, 333172.13 examples/s]\n",
      "Generating train_r2 split: 100%|██████████| 45460/45460 [00:00<00:00, 1009985.06 examples/s]\n",
      "Generating dev_r2 split: 100%|██████████| 1000/1000 [00:00<00:00, 333278.03 examples/s]\n",
      "Generating test_r2 split: 100%|██████████| 1000/1000 [00:00<00:00, 333172.13 examples/s]\n",
      "Generating train_r3 split: 100%|██████████| 100459/100459 [00:00<00:00, 1141309.76 examples/s]\n",
      "Generating dev_r3 split: 100%|██████████| 1200/1200 [00:00<00:00, 299914.48 examples/s]\n",
      "Generating test_r3 split: 100%|██████████| 1200/1200 [00:00<00:00, 299843.01 examples/s]\n"
     ]
    }
   ],
   "source": [
    "anli = load_dataset(\"anli\")\n"
   ]
  },
  {
   "cell_type": "code",
   "execution_count": null,
   "metadata": {},
   "outputs": [
    {
     "name": "stderr",
     "output_type": "stream",
     "text": [
      "Map: 100%|██████████| 1000/1000 [00:00<00:00, 7517.13 examples/s]\n",
      "Map: 100%|██████████| 1000/1000 [00:00<00:00, 3815.91 examples/s]\n",
      "Map: 100%|██████████| 1200/1200 [00:00<00:00, 8161.37 examples/s]\n"
     ]
    }
   ],
   "source": [
    "def preprocess_anli(examples):\n",
    "    return tokenizer(\n",
    "        examples[\"premise\"],  # ANLI uses \"premise\" and \"hypothesis\"\n",
    "        examples[\"hypothesis\"],\n",
    "        truncation=True,\n",
    "        padding=\"max_length\",\n",
    "        max_length=128,\n",
    "    )\n",
    "\n",
    "# Apply preprocessing to all rounds of ANLI\n",
    "tokenized_anli = {}\n",
    "for round_name in [\"test_r1\", \"test_r2\", \"test_r3\"]:\n",
    "    tokenized_anli[round_name] = anli[round_name].map(preprocess_anli, batched=True)\n",
    "    tokenized_anli[round_name] = tokenized_anli[round_name].rename_column(\"label\", \"labels\")\n",
    "    tokenized_anli[round_name].set_format(type=\"torch\", columns=[\"input_ids\", \"attention_mask\", \"labels\"])\n"
   ]
  },
  {
   "cell_type": "code",
   "execution_count": 28,
   "metadata": {},
   "outputs": [
    {
     "name": "stderr",
     "output_type": "stream",
     "text": [
      "100%|██████████| 63/63 [00:12<00:00,  4.97it/s]\n"
     ]
    },
    {
     "name": "stdout",
     "output_type": "stream",
     "text": [
      "ANLI dev_r1 accuracy: 0.3170\n"
     ]
    },
    {
     "name": "stderr",
     "output_type": "stream",
     "text": [
      "100%|██████████| 63/63 [00:13<00:00,  4.79it/s]\n"
     ]
    },
    {
     "name": "stdout",
     "output_type": "stream",
     "text": [
      "ANLI dev_r2 accuracy: 0.3210\n"
     ]
    },
    {
     "name": "stderr",
     "output_type": "stream",
     "text": [
      "100%|██████████| 75/75 [00:16<00:00,  4.67it/s]"
     ]
    },
    {
     "name": "stdout",
     "output_type": "stream",
     "text": [
      "ANLI dev_r3 accuracy: 0.3067\n"
     ]
    },
    {
     "name": "stderr",
     "output_type": "stream",
     "text": [
      "\n"
     ]
    }
   ],
   "source": [
    "for round_name, dataset in tokenized_anli.items():\n",
    "    anli_results = trainer.evaluate(eval_dataset=dataset)\n",
    "    print(f\"ANLI {round_name} accuracy: {anli_results['eval_accuracy']:.4f}\")\n"
   ]
  },
  {
   "cell_type": "code",
   "execution_count": 29,
   "metadata": {},
   "outputs": [
    {
     "name": "stdout",
     "output_type": "stream",
     "text": [
      "{'eval_loss': 2.0615222454071045, 'eval_model_preparation_time': 0.002, 'eval_accuracy': 0.30666666666666664, 'eval_runtime': 16.2791, 'eval_samples_per_second': 73.714, 'eval_steps_per_second': 4.607}\n"
     ]
    }
   ],
   "source": [
    "print(anli_results)"
   ]
  }
 ],
 "metadata": {
  "kernelspec": {
   "display_name": "Python 3",
   "language": "python",
   "name": "python3"
  },
  "language_info": {
   "codemirror_mode": {
    "name": "ipython",
    "version": 3
   },
   "file_extension": ".py",
   "mimetype": "text/x-python",
   "name": "python",
   "nbconvert_exporter": "python",
   "pygments_lexer": "ipython3",
   "version": "3.12.7"
  }
 },
 "nbformat": 4,
 "nbformat_minor": 2
}
